{
 "cells": [
  {
   "cell_type": "code",
   "execution_count": 1,
   "id": "d67b42ee",
   "metadata": {},
   "outputs": [],
   "source": [
    "import spotipy\n",
    "from spotipy.oauth2 import SpotifyClientCredentials\n",
    "\n",
    "\n",
    "c_id = \"485d4ce5cc2948f5abbfd3c9271677f9\"\n",
    "c_se =\"7dfca8010d314470b1d3d641c52052d8\"\n",
    "\n",
    "sp = spotipy.Spotify(auth_manager=SpotifyClientCredentials(client_id=c_id, client_secret=c_se))"
   ]
  },
  {
   "cell_type": "code",
   "execution_count": 2,
   "id": "2a98d790",
   "metadata": {},
   "outputs": [],
   "source": [
    "import config"
   ]
  },
  {
   "cell_type": "code",
   "execution_count": 21,
   "id": "fddfbb89",
   "metadata": {},
   "outputs": [
    {
     "data": {
      "text/plain": [
       "{'tracks': {'href': 'https://api.spotify.com/v1/search?query=Billie+Eilish&type=track&market=GB&offset=0&limit=1',\n",
       "  'items': [{'album': {'album_type': 'album',\n",
       "     'artists': [{'external_urls': {'spotify': 'https://open.spotify.com/artist/6qqNVTkY8uBg9cP3Jd7DAH'},\n",
       "       'href': 'https://api.spotify.com/v1/artists/6qqNVTkY8uBg9cP3Jd7DAH',\n",
       "       'id': '6qqNVTkY8uBg9cP3Jd7DAH',\n",
       "       'name': 'Billie Eilish',\n",
       "       'type': 'artist',\n",
       "       'uri': 'spotify:artist:6qqNVTkY8uBg9cP3Jd7DAH'}],\n",
       "     'external_urls': {'spotify': 'https://open.spotify.com/album/0JGOiO34nwfUdDrD612dOp'},\n",
       "     'href': 'https://api.spotify.com/v1/albums/0JGOiO34nwfUdDrD612dOp',\n",
       "     'id': '0JGOiO34nwfUdDrD612dOp',\n",
       "     'images': [{'height': 640,\n",
       "       'url': 'https://i.scdn.co/image/ab67616d0000b2732a038d3bf875d23e4aeaa84e',\n",
       "       'width': 640},\n",
       "      {'height': 300,\n",
       "       'url': 'https://i.scdn.co/image/ab67616d00001e022a038d3bf875d23e4aeaa84e',\n",
       "       'width': 300},\n",
       "      {'height': 64,\n",
       "       'url': 'https://i.scdn.co/image/ab67616d000048512a038d3bf875d23e4aeaa84e',\n",
       "       'width': 64}],\n",
       "     'name': 'Happier Than Ever',\n",
       "     'release_date': '2021-07-30',\n",
       "     'release_date_precision': 'day',\n",
       "     'total_tracks': 16,\n",
       "     'type': 'album',\n",
       "     'uri': 'spotify:album:0JGOiO34nwfUdDrD612dOp'},\n",
       "    'artists': [{'external_urls': {'spotify': 'https://open.spotify.com/artist/6qqNVTkY8uBg9cP3Jd7DAH'},\n",
       "      'href': 'https://api.spotify.com/v1/artists/6qqNVTkY8uBg9cP3Jd7DAH',\n",
       "      'id': '6qqNVTkY8uBg9cP3Jd7DAH',\n",
       "      'name': 'Billie Eilish',\n",
       "      'type': 'artist',\n",
       "      'uri': 'spotify:artist:6qqNVTkY8uBg9cP3Jd7DAH'}],\n",
       "    'disc_number': 1,\n",
       "    'duration_ms': 298899,\n",
       "    'explicit': True,\n",
       "    'external_ids': {'isrc': 'USUM72105936'},\n",
       "    'external_urls': {'spotify': 'https://open.spotify.com/track/4RVwu0g32PAqgUiJoXsdF8'},\n",
       "    'href': 'https://api.spotify.com/v1/tracks/4RVwu0g32PAqgUiJoXsdF8',\n",
       "    'id': '4RVwu0g32PAqgUiJoXsdF8',\n",
       "    'is_local': False,\n",
       "    'is_playable': True,\n",
       "    'name': 'Happier Than Ever',\n",
       "    'popularity': 88,\n",
       "    'preview_url': None,\n",
       "    'track_number': 15,\n",
       "    'type': 'track',\n",
       "    'uri': 'spotify:track:4RVwu0g32PAqgUiJoXsdF8'}],\n",
       "  'limit': 1,\n",
       "  'next': 'https://api.spotify.com/v1/search?query=Billie+Eilish&type=track&market=GB&offset=1&limit=1',\n",
       "  'offset': 0,\n",
       "  'previous': None,\n",
       "  'total': 2054}}"
      ]
     },
     "execution_count": 21,
     "metadata": {},
     "output_type": "execute_result"
    }
   ],
   "source": [
    "import spotipy\n",
    "import json\n",
    "from spotipy.oauth2 import SpotifyClientCredentials\n",
    "import pandas as pd\n",
    "\n",
    "\n",
    "# The \"sp\" variable has two useful funtions:\n",
    "# The first usefull function is:\n",
    "# .search(q='',limit=n)\n",
    "# .search(q=\"track:\"+song_name+\" artist:\"+artist_name,limit=5) to restrict to a song name and artist.\n",
    "# Where the \"q\" keyword is the query you want to perform on spotify: song_name, artist,...\n",
    "# while The \"limit\" keyword will limit the number of returned results.\n",
    "#\n",
    "# The second usefull function is:\n",
    "# .audio_features([URL|URI|ID])\n",
    "# which returns some 'features of the song', that after cleanup, we can use in order to characterize a song.\n",
    "\n",
    "results = sp.search(q=\"Billie Eilish\",limit=1,market=\"GB\")\n",
    "results\n",
    "#json_results = json.dumps(results, ensure_ascii=True)\n",
    "#json_results\n",
    "#results['tracks']['items'][0]['external_urls'][\"spotify\"]"
   ]
  },
  {
   "cell_type": "code",
   "execution_count": 22,
   "id": "0299a6d9",
   "metadata": {},
   "outputs": [
    {
     "data": {
      "text/plain": [
       "'https://open.spotify.com/track/4RVwu0g32PAqgUiJoXsdF8'"
      ]
     },
     "execution_count": 22,
     "metadata": {},
     "output_type": "execute_result"
    }
   ],
   "source": [
    "results[\"tracks\"][\"items\"][0][\"external_urls\"][\"spotify\"]"
   ]
  },
  {
   "cell_type": "code",
   "execution_count": 23,
   "id": "884597ff",
   "metadata": {},
   "outputs": [
    {
     "data": {
      "text/plain": [
       "'4RVwu0g32PAqgUiJoXsdF8'"
      ]
     },
     "execution_count": 23,
     "metadata": {},
     "output_type": "execute_result"
    }
   ],
   "source": [
    "track_id=results['tracks']['items'][0]['external_urls'][\"spotify\"][31:]\n",
    "track_id"
   ]
  },
  {
   "cell_type": "code",
   "execution_count": 41,
   "id": "3b0182c7",
   "metadata": {},
   "outputs": [
    {
     "data": {
      "text/plain": [
       "dict_keys(['href', 'items', 'limit', 'next', 'offset', 'previous', 'total'])"
      ]
     },
     "execution_count": 41,
     "metadata": {},
     "output_type": "execute_result"
    }
   ],
   "source": [
    "results['tracks'].keys()"
   ]
  },
  {
   "cell_type": "code",
   "execution_count": 24,
   "id": "fdfc169c",
   "metadata": {},
   "outputs": [
    {
     "data": {
      "text/html": [
       "\n",
       "        <iframe\n",
       "            width=\"320\"\n",
       "            height=\"80\"\n",
       "            src=\"https://open.spotify.com/embed/track/4RVwu0g32PAqgUiJoXsdF8?frameborder=0&allowtransparency=true&allow=encrypted-media\"\n",
       "            frameborder=\"0\"\n",
       "            allowfullscreen\n",
       "            \n",
       "        ></iframe>\n",
       "        "
      ],
      "text/plain": [
       "<IPython.lib.display.IFrame at 0x7f9521e99670>"
      ]
     },
     "execution_count": 24,
     "metadata": {},
     "output_type": "execute_result"
    }
   ],
   "source": [
    "from IPython.display import IFrame\n",
    "\n",
    "#track_id = \"1rfORa9iYmocEsnnZGMVC4\"\n",
    "\n",
    "IFrame(src=\"https://open.spotify.com/embed/track/\"+track_id,\n",
    "       width=\"320\",\n",
    "       height=\"80\",\n",
    "       frameborder=\"0\",\n",
    "       allowtransparency=\"true\",\n",
    "       allow=\"encrypted-media\",\n",
    "      )"
   ]
  },
  {
   "cell_type": "code",
   "execution_count": 25,
   "id": "ee7707db",
   "metadata": {},
   "outputs": [
    {
     "data": {
      "text/plain": [
       "dict_keys(['tracks'])"
      ]
     },
     "execution_count": 25,
     "metadata": {},
     "output_type": "execute_result"
    }
   ],
   "source": [
    "results.keys()"
   ]
  },
  {
   "cell_type": "code",
   "execution_count": 26,
   "id": "9a6adac0",
   "metadata": {},
   "outputs": [
    {
     "data": {
      "text/plain": [
       "dict_keys(['href', 'items', 'limit', 'next', 'offset', 'previous', 'total'])"
      ]
     },
     "execution_count": 26,
     "metadata": {},
     "output_type": "execute_result"
    }
   ],
   "source": [
    "results['tracks'].keys()"
   ]
  },
  {
   "cell_type": "code",
   "execution_count": 63,
   "id": "32f69888",
   "metadata": {},
   "outputs": [],
   "source": [
    "def call_playlist(username, playlist_id):\n",
    "    results = sp.user_playlist(username,playlist_id)\n",
    "    tracks = results['items']\n",
    "    while results['next']:\n",
    "        results = sp.next(results)\n",
    "        tracks.extend(results['items'])\n",
    "    return tracks\n",
    "    \n",
    "    #step1\n",
    "\n",
    "    playlist_features_list = [\"artist\",\"album\",\"track_name\",\"track_id\",\"danceability\",\"energy\",\"key\",\"loudness\",\"mode\", \"speechiness\",\"instrumentalness\",\"liveness\",\"valence\",\"tempo\", \"duration_ms\",\"time_signature\"]\n",
    "    \n",
    "    playlist_df = pd.DataFrame(columns = playlist_features_list)\n",
    "    \n",
    "    #step2\n",
    "    \n",
    "    playlist = sp.user_playlist_tracks(creator, playlist_id)[\"items\"]\n",
    "    for track in playlist:\n",
    "        # Create empty dict\n",
    "        playlist_features = {}\n",
    "        # Get metadata\n",
    "        playlist_features[\"artist\"] = track[\"track\"][\"album\"][\"artists\"][0][\"name\"]\n",
    "        playlist_features[\"album\"] = track[\"track\"][\"album\"][\"name\"]\n",
    "        playlist_features[\"track_name\"] = track[\"track\"][\"name\"]\n",
    "        playlist_features[\"track_id\"] = track[\"track\"][\"id\"]\n",
    "        \n",
    "        # Get audio features\n",
    "        audio_features = sp.audio_features(playlist_features[\"track_id\"])[0]\n",
    "        for feature in playlist_features_list[4:]:\n",
    "            playlist_features[feature] = audio_features[feature]\n",
    "        \n",
    "        # Concat the dfs\n",
    "        track_df = pd.DataFrame(playlist_features, index = [0])\n",
    "        playlist_df = pd.concat([playlist_df, track_df], ignore_index = True)\n",
    "\n",
    "    #Step 3\n",
    "        \n",
    "        \n",
    "    return playlist_df"
   ]
  },
  {
   "cell_type": "code",
   "execution_count": 64,
   "id": "d2e07f33",
   "metadata": {},
   "outputs": [
    {
     "ename": "KeyError",
     "evalue": "'items'",
     "output_type": "error",
     "traceback": [
      "\u001b[0;31m---------------------------------------------------------------------------\u001b[0m",
      "\u001b[0;31mKeyError\u001b[0m                                  Traceback (most recent call last)",
      "Input \u001b[0;32mIn [64]\u001b[0m, in \u001b[0;36m<cell line: 1>\u001b[0;34m()\u001b[0m\n\u001b[0;32m----> 1\u001b[0m \u001b[43mcall_playlist\u001b[49m\u001b[43m(\u001b[49m\u001b[38;5;124;43m\"\u001b[39;49m\u001b[38;5;124;43mspotify\u001b[39;49m\u001b[38;5;124;43m\"\u001b[39;49m\u001b[43m,\u001b[49m\u001b[38;5;124;43m\"\u001b[39;49m\u001b[38;5;124;43m5S8SJdl1BDc0ugpkEvFsIL\u001b[39;49m\u001b[38;5;124;43m\"\u001b[39;49m\u001b[43m)\u001b[49m\n",
      "Input \u001b[0;32mIn [63]\u001b[0m, in \u001b[0;36mcall_playlist\u001b[0;34m(username, playlist_id)\u001b[0m\n\u001b[1;32m      1\u001b[0m \u001b[38;5;28;01mdef\u001b[39;00m \u001b[38;5;21mcall_playlist\u001b[39m(username, playlist_id):\n\u001b[1;32m      2\u001b[0m     results \u001b[38;5;241m=\u001b[39m sp\u001b[38;5;241m.\u001b[39muser_playlist(username,playlist_id)\n\u001b[0;32m----> 3\u001b[0m     tracks \u001b[38;5;241m=\u001b[39m \u001b[43mresults\u001b[49m\u001b[43m[\u001b[49m\u001b[38;5;124;43m'\u001b[39;49m\u001b[38;5;124;43mitems\u001b[39;49m\u001b[38;5;124;43m'\u001b[39;49m\u001b[43m]\u001b[49m\n\u001b[1;32m      4\u001b[0m     \u001b[38;5;28;01mwhile\u001b[39;00m results[\u001b[38;5;124m'\u001b[39m\u001b[38;5;124mnext\u001b[39m\u001b[38;5;124m'\u001b[39m]:\n\u001b[1;32m      5\u001b[0m         results \u001b[38;5;241m=\u001b[39m sp\u001b[38;5;241m.\u001b[39mnext(results)\n",
      "\u001b[0;31mKeyError\u001b[0m: 'items'"
     ]
    }
   ],
   "source": [
    "call_playlist(\"spotify\",\"5S8SJdl1BDc0ugpkEvFsIL\")"
   ]
  },
  {
   "cell_type": "code",
   "execution_count": 53,
   "id": "31a4cc95",
   "metadata": {
    "scrolled": true
   },
   "outputs": [
    {
     "name": "stdout",
     "output_type": "stream",
     "text": [
      "{'tracks': {'href': 'https://api.spotify.com/v1/search?query=Billie+Eilish&type=track&market=GB&offset=0&limit=1',\n",
      "            'items': [{'album': {'album_type': 'album',\n",
      "                                 'artists': [{'external_urls': {'spotify': 'https://open.spotify.com/artist/6qqNVTkY8uBg9cP3Jd7DAH'},\n",
      "                                              'href': 'https://api.spotify.com/v1/artists/6qqNVTkY8uBg9cP3Jd7DAH',\n",
      "                                              'id': '6qqNVTkY8uBg9cP3Jd7DAH',\n",
      "                                              'name': 'Billie Eilish',\n",
      "                                              'type': 'artist',\n",
      "                                              'uri': 'spotify:artist:6qqNVTkY8uBg9cP3Jd7DAH'}],\n",
      "                                 'external_urls': {'spotify': 'https://open.spotify.com/album/0JGOiO34nwfUdDrD612dOp'},\n",
      "                                 'href': 'https://api.spotify.com/v1/albums/0JGOiO34nwfUdDrD612dOp',\n",
      "                                 'id': '0JGOiO34nwfUdDrD612dOp',\n",
      "                                 'images': [{'height': 640,\n",
      "                                             'url': 'https://i.scdn.co/image/ab67616d0000b2732a038d3bf875d23e4aeaa84e',\n",
      "                                             'width': 640},\n",
      "                                            {'height': 300,\n",
      "                                             'url': 'https://i.scdn.co/image/ab67616d00001e022a038d3bf875d23e4aeaa84e',\n",
      "                                             'width': 300},\n",
      "                                            {'height': 64,\n",
      "                                             'url': 'https://i.scdn.co/image/ab67616d000048512a038d3bf875d23e4aeaa84e',\n",
      "                                             'width': 64}],\n",
      "                                 'name': 'Happier Than Ever',\n",
      "                                 'release_date': '2021-07-30',\n",
      "                                 'release_date_precision': 'day',\n",
      "                                 'total_tracks': 16,\n",
      "                                 'type': 'album',\n",
      "                                 'uri': 'spotify:album:0JGOiO34nwfUdDrD612dOp'},\n",
      "                       'artists': [{'external_urls': {'spotify': 'https://open.spotify.com/artist/6qqNVTkY8uBg9cP3Jd7DAH'},\n",
      "                                    'href': 'https://api.spotify.com/v1/artists/6qqNVTkY8uBg9cP3Jd7DAH',\n",
      "                                    'id': '6qqNVTkY8uBg9cP3Jd7DAH',\n",
      "                                    'name': 'Billie Eilish',\n",
      "                                    'type': 'artist',\n",
      "                                    'uri': 'spotify:artist:6qqNVTkY8uBg9cP3Jd7DAH'}],\n",
      "                       'disc_number': 1,\n",
      "                       'duration_ms': 298899,\n",
      "                       'explicit': True,\n",
      "                       'external_ids': {'isrc': 'USUM72105936'},\n",
      "                       'external_urls': {'spotify': 'https://open.spotify.com/track/4RVwu0g32PAqgUiJoXsdF8'},\n",
      "                       'href': 'https://api.spotify.com/v1/tracks/4RVwu0g32PAqgUiJoXsdF8',\n",
      "                       'id': '4RVwu0g32PAqgUiJoXsdF8',\n",
      "                       'is_local': False,\n",
      "                       'is_playable': True,\n",
      "                       'name': 'Happier Than Ever',\n",
      "                       'popularity': 88,\n",
      "                       'preview_url': None,\n",
      "                       'track_number': 15,\n",
      "                       'type': 'track',\n",
      "                       'uri': 'spotify:track:4RVwu0g32PAqgUiJoXsdF8'}],\n",
      "            'limit': 1,\n",
      "            'next': 'https://api.spotify.com/v1/search?query=Billie+Eilish&type=track&market=GB&offset=1&limit=1',\n",
      "            'offset': 0,\n",
      "            'previous': None,\n",
      "            'total': 2054}}\n"
     ]
    }
   ],
   "source": [
    "import pprint\n",
    "pprint.pprint(results)"
   ]
  },
  {
   "cell_type": "code",
   "execution_count": 54,
   "id": "da5b0a49",
   "metadata": {},
   "outputs": [],
   "source": [
    "def get_playlist_tracks(creator, playlist_id):\n",
    "    results = sp.user_playlist_tracks(creator,playlist_id,market=\"GB\")\n",
    "    tracks = playlist_df['items']\n",
    "    while results['next']:\n",
    "        playlist_df = sp.next(playlist_df)\n",
    "        tracks.extend(playlist_df['items'])\n",
    "    return tracks"
   ]
  },
  {
   "cell_type": "code",
   "execution_count": 55,
   "id": "b1d8475f",
   "metadata": {},
   "outputs": [
    {
     "data": {
      "text/plain": [
       "100"
      ]
     },
     "execution_count": 55,
     "metadata": {},
     "output_type": "execute_result"
    }
   ],
   "source": [
    "len(call_playlist(\"spotify\",\"5S8SJdl1BDc0ugpkEvFsIL\"))"
   ]
  },
  {
   "cell_type": "code",
   "execution_count": null,
   "id": "15234dc2",
   "metadata": {},
   "outputs": [],
   "source": []
  }
 ],
 "metadata": {
  "kernelspec": {
   "display_name": "Python 3 (ipykernel)",
   "language": "python",
   "name": "python3"
  },
  "language_info": {
   "codemirror_mode": {
    "name": "ipython",
    "version": 3
   },
   "file_extension": ".py",
   "mimetype": "text/x-python",
   "name": "python",
   "nbconvert_exporter": "python",
   "pygments_lexer": "ipython3",
   "version": "3.9.7"
  }
 },
 "nbformat": 4,
 "nbformat_minor": 5
}
