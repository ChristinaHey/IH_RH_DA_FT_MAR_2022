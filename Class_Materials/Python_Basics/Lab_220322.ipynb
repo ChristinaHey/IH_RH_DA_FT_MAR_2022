{
 "cells": [
  {
   "cell_type": "markdown",
   "id": "f092a4f6",
   "metadata": {},
   "source": [
    "## Lab, 22.03.22\n"
   ]
  },
  {
   "cell_type": "markdown",
   "id": "b38d9303",
   "metadata": {},
   "source": [
    "### Challenge 2 - Sets\n"
   ]
  },
  {
   "cell_type": "code",
   "execution_count": 311,
   "id": "daebebab",
   "metadata": {},
   "outputs": [],
   "source": [
    "import random"
   ]
  },
  {
   "cell_type": "code",
   "execution_count": 312,
   "id": "17410eea",
   "metadata": {},
   "outputs": [
    {
     "data": {
      "text/plain": [
       "[20,\n",
       " 99,\n",
       " 73,\n",
       " 60,\n",
       " 76,\n",
       " 44,\n",
       " 58,\n",
       " 91,\n",
       " 40,\n",
       " 19,\n",
       " 49,\n",
       " 81,\n",
       " 83,\n",
       " 35,\n",
       " 78,\n",
       " 48,\n",
       " 67,\n",
       " 94,\n",
       " 18,\n",
       " 82,\n",
       " 90,\n",
       " 96,\n",
       " 15,\n",
       " 23,\n",
       " 89,\n",
       " 26,\n",
       " 30,\n",
       " 66,\n",
       " 1,\n",
       " 68,\n",
       " 59,\n",
       " 74,\n",
       " 22,\n",
       " 43,\n",
       " 36,\n",
       " 11,\n",
       " 45,\n",
       " 5,\n",
       " 29,\n",
       " 64,\n",
       " 53,\n",
       " 50,\n",
       " 9,\n",
       " 85,\n",
       " 80,\n",
       " 63,\n",
       " 88,\n",
       " 38,\n",
       " 93,\n",
       " 54,\n",
       " 86,\n",
       " 24,\n",
       " 2,\n",
       " 61,\n",
       " 77,\n",
       " 39,\n",
       " 0,\n",
       " 25,\n",
       " 87,\n",
       " 27,\n",
       " 32,\n",
       " 17,\n",
       " 46,\n",
       " 7,\n",
       " 28,\n",
       " 21,\n",
       " 75,\n",
       " 71,\n",
       " 69,\n",
       " 51,\n",
       " 33,\n",
       " 70,\n",
       " 3,\n",
       " 31,\n",
       " 52,\n",
       " 55,\n",
       " 65,\n",
       " 10,\n",
       " 84,\n",
       " 97]"
      ]
     },
     "execution_count": 312,
     "metadata": {},
     "output_type": "execute_result"
    }
   ],
   "source": [
    "sample_list_1=random.sample(range(100), k=80)\n",
    "sample_list_1"
   ]
  },
  {
   "cell_type": "code",
   "execution_count": 313,
   "id": "36d28310",
   "metadata": {},
   "outputs": [
    {
     "data": {
      "text/plain": [
       "80"
      ]
     },
     "execution_count": 313,
     "metadata": {},
     "output_type": "execute_result"
    }
   ],
   "source": [
    "set1=set(sample_list_1)\n",
    "len(set1)"
   ]
  },
  {
   "cell_type": "code",
   "execution_count": 314,
   "id": "e953d957",
   "metadata": {},
   "outputs": [
    {
     "name": "stdout",
     "output_type": "stream",
     "text": [
      "{1, 2, 3, 4, 5, 6, 7, 8, 9, 11, 13, 14, 15, 17, 19, 20, 21, 22, 24, 25, 26, 27, 28, 30, 31, 32, 33, 34, 35, 36, 38, 39, 40, 42, 43, 45, 46, 47, 48, 49, 50, 52, 53, 55, 56, 57, 58, 59, 60, 61, 62, 63, 64, 65, 66, 67, 68, 69, 70, 73, 74, 76, 77, 78, 79, 80, 81, 82, 83, 84, 86, 87, 88, 91, 92, 93, 95, 97, 98, 99}\n"
     ]
    }
   ],
   "source": [
    "sample_list_2=random.sample(range(100), k=80)\n",
    "set2=set(sample_list_2)\n",
    "print(set2)"
   ]
  },
  {
   "cell_type": "code",
   "execution_count": null,
   "id": "b606878d",
   "metadata": {},
   "outputs": [],
   "source": []
  },
  {
   "cell_type": "code",
   "execution_count": 315,
   "id": "e0f49a32",
   "metadata": {},
   "outputs": [
    {
     "name": "stdout",
     "output_type": "stream",
     "text": [
      "[78, 43, 75, 28, 61, 18, 33, 84, 95, 51, 2, 48, 61, 27, 94, 27, 72, 16, 56, 67, 32, 11, 52, 39, 81, 3, 21, 85, 40, 28, 6, 23, 98, 96, 36, 32, 41, 29, 22, 50, 79, 49, 55, 89, 14, 33, 67, 3, 50, 75, 93, 54, 77, 51, 87, 90, 58, 47, 83, 91, 94, 94, 43, 92, 50, 7, 3, 16, 44, 55, 71, 26, 76, 91, 45, 24, 83, 41, 65, 19]\n"
     ]
    },
    {
     "data": {
      "text/plain": [
       "80"
      ]
     },
     "execution_count": 315,
     "metadata": {},
     "output_type": "execute_result"
    }
   ],
   "source": [
    "sample_list_2 = []\n",
    "for i in range(80):\n",
    "    sample_list_2.append(random.randint(1,100))\n",
    "print(sample_list_2)\n",
    "len(sample_list_2)"
   ]
  },
  {
   "cell_type": "code",
   "execution_count": 316,
   "id": "db67a36b",
   "metadata": {},
   "outputs": [
    {
     "data": {
      "text/plain": [
       "60"
      ]
     },
     "execution_count": 316,
     "metadata": {},
     "output_type": "execute_result"
    }
   ],
   "source": [
    "set2=set(sample_list_2)\n",
    "len(set2)"
   ]
  },
  {
   "cell_type": "code",
   "execution_count": 317,
   "id": "e344a98a",
   "metadata": {},
   "outputs": [
    {
     "data": {
      "text/plain": [
       "{0,\n",
       " 1,\n",
       " 5,\n",
       " 9,\n",
       " 10,\n",
       " 15,\n",
       " 17,\n",
       " 20,\n",
       " 25,\n",
       " 30,\n",
       " 31,\n",
       " 35,\n",
       " 38,\n",
       " 46,\n",
       " 53,\n",
       " 59,\n",
       " 60,\n",
       " 63,\n",
       " 64,\n",
       " 66,\n",
       " 68,\n",
       " 69,\n",
       " 70,\n",
       " 73,\n",
       " 74,\n",
       " 80,\n",
       " 82,\n",
       " 86,\n",
       " 88,\n",
       " 97,\n",
       " 99}"
      ]
     },
     "execution_count": 317,
     "metadata": {},
     "output_type": "execute_result"
    }
   ],
   "source": [
    "set3=(set1-set2)\n",
    "set3"
   ]
  },
  {
   "cell_type": "code",
   "execution_count": 318,
   "id": "c2c85792",
   "metadata": {},
   "outputs": [
    {
     "data": {
      "text/plain": [
       "{6, 14, 16, 41, 47, 56, 72, 79, 92, 95, 98}"
      ]
     },
     "execution_count": 318,
     "metadata": {},
     "output_type": "execute_result"
    }
   ],
   "source": [
    "set4=(set2-set1)\n",
    "set4"
   ]
  },
  {
   "cell_type": "code",
   "execution_count": 319,
   "id": "04cdd131",
   "metadata": {},
   "outputs": [
    {
     "name": "stdout",
     "output_type": "stream",
     "text": [
      "[2, 3, 7, 11, 18, 19, 21, 22, 23, 24, 26, 27, 28, 29, 32, 33, 36, 39, 40, 43, 44, 45, 48, 49, 50, 51, 52, 54, 55, 58, 61, 65, 67, 71, 75, 76, 77, 78, 81, 83, 84, 85, 87, 89, 90, 91, 93, 94, 96]\n"
     ]
    }
   ],
   "source": [
    "set5 = []\n",
    "for i in set1:\n",
    "      for n in set2:\n",
    "            if i == n:\n",
    "                set5.append(i)\n",
    "print(set5)"
   ]
  },
  {
   "cell_type": "code",
   "execution_count": 320,
   "id": "8515fa29",
   "metadata": {},
   "outputs": [
    {
     "data": {
      "text/plain": [
       "80"
      ]
     },
     "execution_count": 320,
     "metadata": {},
     "output_type": "execute_result"
    }
   ],
   "source": [
    "len(set1)"
   ]
  },
  {
   "cell_type": "code",
   "execution_count": 321,
   "id": "7d6a56ad",
   "metadata": {},
   "outputs": [
    {
     "data": {
      "text/plain": [
       "60"
      ]
     },
     "execution_count": 321,
     "metadata": {},
     "output_type": "execute_result"
    }
   ],
   "source": [
    "len(set2)"
   ]
  },
  {
   "cell_type": "code",
   "execution_count": 322,
   "id": "e6b19c75",
   "metadata": {},
   "outputs": [
    {
     "data": {
      "text/plain": [
       "31"
      ]
     },
     "execution_count": 322,
     "metadata": {},
     "output_type": "execute_result"
    }
   ],
   "source": [
    "len(set3)"
   ]
  },
  {
   "cell_type": "code",
   "execution_count": 323,
   "id": "caf7a758",
   "metadata": {},
   "outputs": [
    {
     "data": {
      "text/plain": [
       "11"
      ]
     },
     "execution_count": 323,
     "metadata": {},
     "output_type": "execute_result"
    }
   ],
   "source": [
    "len(set4)"
   ]
  },
  {
   "cell_type": "code",
   "execution_count": 324,
   "id": "490ba45e",
   "metadata": {},
   "outputs": [
    {
     "data": {
      "text/plain": [
       "49"
      ]
     },
     "execution_count": 324,
     "metadata": {},
     "output_type": "execute_result"
    }
   ],
   "source": [
    "len(set5)"
   ]
  },
  {
   "cell_type": "code",
   "execution_count": 325,
   "id": "9cf662be",
   "metadata": {},
   "outputs": [
    {
     "name": "stdout",
     "output_type": "stream",
     "text": [
      "{0, 1, 2, 3, 5, 7, 9, 10, 11, 15, 17, 18, 19, 20, 21, 22, 23, 24, 25, 26, 27, 28, 29, 30, 31, 32, 33, 35, 36, 38, 39, 40, 43, 44, 45, 46, 48, 49, 50, 51, 52, 53, 54, 55, 58, 59, 60, 61, 63, 64, 65, 66, 67, 68, 69, 70, 71, 73, 74, 75, 76, 77, 78, 80, 81, 82, 83, 84, 85, 86, 87, 88, 89, 90, 91, 93, 94, 96, 97, 99}\n"
     ]
    },
    {
     "data": {
      "text/plain": [
       "80"
      ]
     },
     "execution_count": 325,
     "metadata": {},
     "output_type": "execute_result"
    }
   ],
   "source": [
    "set6 = set()\n",
    "set6.update(set5)\n",
    "set6.update(set3)\n",
    "print(set6)\n",
    "len(set6)"
   ]
  },
  {
   "cell_type": "code",
   "execution_count": 326,
   "id": "91164d62",
   "metadata": {},
   "outputs": [
    {
     "name": "stdout",
     "output_type": "stream",
     "text": [
      "Lists are equal\n"
     ]
    }
   ],
   "source": [
    "if(set1) == (set6):\n",
    "    print(\"Lists are equal\")\n",
    "else:\n",
    "    print(\"Lists are not equal\")"
   ]
  },
  {
   "cell_type": "code",
   "execution_count": 327,
   "id": "c6245f2c",
   "metadata": {},
   "outputs": [
    {
     "data": {
      "text/plain": [
       "False"
      ]
     },
     "execution_count": 327,
     "metadata": {},
     "output_type": "execute_result"
    }
   ],
   "source": [
    "set1.issubset(set2) "
   ]
  },
  {
   "cell_type": "code",
   "execution_count": 328,
   "id": "7f40bd19",
   "metadata": {},
   "outputs": [
    {
     "data": {
      "text/plain": [
       "False"
      ]
     },
     "execution_count": 328,
     "metadata": {},
     "output_type": "execute_result"
    }
   ],
   "source": [
    "set1.issubset(set3)"
   ]
  },
  {
   "cell_type": "code",
   "execution_count": 329,
   "id": "5c845880",
   "metadata": {},
   "outputs": [
    {
     "name": "stdout",
     "output_type": "stream",
     "text": [
      "{0, 1, 2, 3, 5, 6, 7, 9, 10, 11, 14, 15, 16, 17, 18, 19, 20, 21, 22, 23, 24, 25, 26, 27, 28, 29, 30, 31, 32, 33, 35, 36, 38, 39, 40, 41, 43, 44, 45, 46, 47, 48, 49, 50, 51, 52, 53, 54, 55, 56, 58, 59, 60, 61, 63, 64, 65, 66, 67, 68, 69, 70, 71, 72, 73, 74, 75, 76, 77, 78, 79, 80, 81, 82, 83, 84, 85, 86, 87, 88, 89, 90, 91, 92, 93, 94, 95, 96, 97, 98, 99}\n"
     ]
    },
    {
     "data": {
      "text/plain": [
       "91"
      ]
     },
     "execution_count": 329,
     "metadata": {},
     "output_type": "execute_result"
    }
   ],
   "source": [
    "x = {\"apple\", \"banana\", \"cherry\"}\n",
    "y = {\"google\", \"microsoft\", \"apple\"}\n",
    "\n",
    "Aggregated = set3.union(set4)\n",
    "Aggregated2 = Aggregated.union(set5)\n",
    "print(Aggregated2)\n",
    "len(Aggregated2)"
   ]
  },
  {
   "cell_type": "code",
   "execution_count": 330,
   "id": "9490d69d",
   "metadata": {},
   "outputs": [
    {
     "name": "stdout",
     "output_type": "stream",
     "text": [
      "{0, 1, 2, 3, 5, 6, 7, 9, 10, 11, 14, 15, 16, 17, 18, 19, 20, 21, 22, 23, 24, 25, 26, 27, 28, 29, 30, 31, 32, 33, 35, 36, 38, 39, 40, 41, 43, 44, 45, 46, 47, 48, 49, 50, 51, 52, 53, 54, 55, 56, 58, 59, 60, 61, 63, 64, 65, 66, 67, 68, 69, 70, 71, 72, 73, 74, 75, 76, 77, 78, 79, 80, 81, 82, 83, 84, 85, 86, 87, 88, 89, 90, 91, 92, 93, 94, 95, 96, 97, 98, 99}\n"
     ]
    },
    {
     "data": {
      "text/plain": [
       "91"
      ]
     },
     "execution_count": 330,
     "metadata": {},
     "output_type": "execute_result"
    }
   ],
   "source": [
    "Aggregadted3 = set1.union(set2)\n",
    "print(Aggregadted3)\n",
    "len(Aggregadted3)"
   ]
  },
  {
   "cell_type": "code",
   "execution_count": 331,
   "id": "5af39997",
   "metadata": {},
   "outputs": [
    {
     "name": "stdout",
     "output_type": "stream",
     "text": [
      "{1, 2, 3, 5, 7, 9, 10, 11, 15, 17, 18, 19, 20, 21, 22, 23, 24, 25, 26, 27, 28, 29, 30, 31, 32, 33, 35, 36, 38, 39, 40, 43, 44, 45, 46, 48, 49, 50, 51, 52, 53, 54, 55, 58, 59, 60, 61, 63, 64, 65, 66, 67, 68, 69, 70, 71, 73, 74, 75, 76, 77, 78, 80, 81, 82, 83, 84, 85, 86, 87, 88, 89, 90, 91, 93, 94, 96, 97, 99}\n"
     ]
    }
   ],
   "source": [
    "set1.pop()\n",
    "print(set1)"
   ]
  },
  {
   "cell_type": "code",
   "execution_count": 332,
   "id": "f3d695b4",
   "metadata": {},
   "outputs": [],
   "source": [
    "list_to_remove = [1, 9, 11, 19, 21, 29, 31, 39, 41, 49, 51, 59, 61, 69, 71, 79, 81, 89, 91, 99]"
   ]
  },
  {
   "cell_type": "code",
   "execution_count": 333,
   "id": "a7244a03",
   "metadata": {},
   "outputs": [
    {
     "name": "stdout",
     "output_type": "stream",
     "text": [
      "{2, 3, 5, 7, 10, 15, 17, 18, 20, 22, 23, 24, 25, 26, 27, 28, 30, 32, 33, 35, 36, 38, 40, 43, 44, 45, 46, 48, 50, 52, 53, 54, 55, 58, 60, 63, 64, 65, 66, 67, 68, 70, 73, 74, 75, 76, 77, 78, 80, 82, 83, 84, 85, 86, 87, 88, 90, 93, 94, 96, 97}\n"
     ]
    }
   ],
   "source": [
    "removed = set(list_to_remove)\n",
    "print(set1-removed)"
   ]
  },
  {
   "cell_type": "code",
   "execution_count": null,
   "id": "15a2be62",
   "metadata": {},
   "outputs": [],
   "source": []
  },
  {
   "cell_type": "code",
   "execution_count": null,
   "id": "4d572807",
   "metadata": {},
   "outputs": [],
   "source": []
  },
  {
   "cell_type": "code",
   "execution_count": null,
   "id": "e68a67bd",
   "metadata": {},
   "outputs": [],
   "source": []
  }
 ],
 "metadata": {
  "kernelspec": {
   "display_name": "Python 3 (ipykernel)",
   "language": "python",
   "name": "python3"
  },
  "language_info": {
   "codemirror_mode": {
    "name": "ipython",
    "version": 3
   },
   "file_extension": ".py",
   "mimetype": "text/x-python",
   "name": "python",
   "nbconvert_exporter": "python",
   "pygments_lexer": "ipython3",
   "version": "3.9.7"
  }
 },
 "nbformat": 4,
 "nbformat_minor": 5
}
